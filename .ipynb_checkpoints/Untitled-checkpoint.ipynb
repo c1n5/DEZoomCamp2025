{
 "cells": [
  {
   "cell_type": "code",
   "execution_count": 1,
   "id": "b3ba61bd-e5b2-4760-9ed6-4bbf11e6aada",
   "metadata": {},
   "outputs": [
    {
     "name": "stdout",
     "output_type": "stream",
     "text": [
      "Hello World in CodeSpace\n"
     ]
    }
   ],
   "source": [
    "print(\"Hello World in CodeSpace\")"
   ]
  },
  {
   "cell_type": "code",
   "execution_count": null,
   "id": "b3b877e2-927f-4216-8d01-d5abc9a93b27",
   "metadata": {},
   "outputs": [],
   "source": []
  }
 ],
 "metadata": {
  "kernelspec": {
   "display_name": "Python 3 (ipykernel)",
   "language": "python",
   "name": "python3"
  },
  "language_info": {
   "codemirror_mode": {
    "name": "ipython",
    "version": 3
   },
   "file_extension": ".py",
   "mimetype": "text/x-python",
   "name": "python",
   "nbconvert_exporter": "python",
   "pygments_lexer": "ipython3",
   "version": "3.12.1"
  }
 },
 "nbformat": 4,
 "nbformat_minor": 5
}
